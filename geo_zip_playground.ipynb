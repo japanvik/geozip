{
 "cells": [
  {
   "cell_type": "markdown",
   "metadata": {},
   "source": [
    "Here are some sample data\n",
    "---\n",
    "* Roppongi hills (35.6601719, 139.7300166)\n",
    "* Roppongi station (35.66283417, 139.7314453)\n",
    "* Shibuya station (35.6588707, 139.7012329)\n"
   ]
  },
  {
   "cell_type": "code",
   "execution_count": 79,
   "metadata": {
    "collapsed": false
   },
   "outputs": [],
   "source": [
    "import geozip\n",
    "from geolocation import GeoLocation"
   ]
  },
  {
   "cell_type": "code",
   "execution_count": 98,
   "metadata": {
    "collapsed": false
   },
   "outputs": [],
   "source": [
    "hills = GeoLocation.from_degrees(35.6601719, 139.7300166)\n",
    "roppongi_station = GeoLocation.from_degrees(35.66283417, 139.7314453)\n",
    "shibuya = GeoLocation.from_degrees(35.6588707, 139.7012329)"
   ]
  },
  {
   "cell_type": "code",
   "execution_count": 103,
   "metadata": {
    "collapsed": false
   },
   "outputs": [
    {
     "name": "stdout",
     "output_type": "stream",
     "text": [
      "132159676300107127 132159676321843445 132159675081827313\n"
     ]
    }
   ],
   "source": [
    "#geo = '132159676300107127'\n",
    "hills_geo = geozip.encode(hills.deg_lat, hills.deg_lon)\n",
    "roppongi_geo = geozip.encode(roppongi_station.deg_lat, roppongi_station.deg_lon)\n",
    "shibuya_geo = geozip.encode(shibuya.deg_lat, shibuya.deg_lon)\n",
    "print hills_geo, roppongi_geo, shibuya_geo"
   ]
  },
  {
   "cell_type": "code",
   "execution_count": 107,
   "metadata": {
    "collapsed": false
   },
   "outputs": [
    {
     "data": {
      "text/plain": [
       "2.6073990096577946"
      ]
     },
     "execution_count": 107,
     "metadata": {},
     "output_type": "execute_result"
    }
   ],
   "source": [
    "hills.distance_to(shibuya) #in Kilometers"
   ]
  },
  {
   "cell_type": "code",
   "execution_count": 90,
   "metadata": {
    "collapsed": false
   },
   "outputs": [],
   "source": [
    "kilo_boundary = hills.bounding_locations(1)"
   ]
  },
  {
   "cell_type": "code",
   "execution_count": 94,
   "metadata": {
    "collapsed": false
   },
   "outputs": [
    {
     "name": "stdout",
     "output_type": "stream",
     "text": [
      "35.651189,139.718960\n",
      "35.669155,139.741073\n"
     ]
    }
   ],
   "source": [
    "print \"%f,%f\" % (kilo_boundary[0].deg_lat, kilo_boundary[0].deg_lon)\n",
    "print \"%f,%f\" % (kilo_boundary[1].deg_lat, kilo_boundary[1].deg_lon)"
   ]
  },
  {
   "cell_type": "code",
   "execution_count": 95,
   "metadata": {
    "collapsed": true
   },
   "outputs": [],
   "source": [
    "sw = geozip.encode(kilo_boundary[0].deg_lat, kilo_boundary[0].deg_lon)\n",
    "ne = geozip.encode(kilo_boundary[1].deg_lat, kilo_boundary[1].deg_lon)"
   ]
  },
  {
   "cell_type": "code",
   "execution_count": 96,
   "metadata": {
    "collapsed": false
   },
   "outputs": [
    {
     "data": {
      "text/plain": [
       "('132159675118198690', '132159676491105753')"
      ]
     },
     "execution_count": 96,
     "metadata": {},
     "output_type": "execute_result"
    }
   ],
   "source": [
    "sw, ne"
   ]
  },
  {
   "cell_type": "code",
   "execution_count": 104,
   "metadata": {
    "collapsed": false
   },
   "outputs": [
    {
     "name": "stdout",
     "output_type": "stream",
     "text": [
      "Shibuya: False\n",
      "Roppongi: True\n"
     ]
    }
   ],
   "source": [
    "# Within bounds means the geo is greater than sw, but less than ne\n",
    "# Shibuya should be out side the bound for kilo\n",
    "print \"Shibuya: %s\" % (int(shibuya_geo) > int(sw) and int(shibuya_geo) < int(ne))\n",
    "# but Roppongi should be within bounds\n",
    "print \"Roppongi: %s\" % (int(roppongi_geo) > int(sw) and int(roppongi_geo) < int(ne))"
   ]
  },
  {
   "cell_type": "code",
   "execution_count": 106,
   "metadata": {
    "collapsed": false
   },
   "outputs": [
    {
     "name": "stdout",
     "output_type": "stream",
     "text": [
      "Shibuya: True\n",
      "Roppongi: True\n"
     ]
    }
   ],
   "source": [
    "# But for a 4 kilo boundary, shibuya should be within. (and so is Roppongi)\n",
    "four_kilo_boundary = hills.bounding_locations(4)\n",
    "sw = geozip.encode(four_kilo_boundary[0].deg_lat, four_kilo_boundary[0].deg_lon)\n",
    "ne = geozip.encode(four_kilo_boundary[1].deg_lat, four_kilo_boundary[1].deg_lon)\n",
    "\n",
    "print \"Shibuya: %s\" % (int(shibuya_geo) > int(sw) and int(shibuya_geo) < int(ne))\n",
    "print \"Roppongi: %s\" % (int(roppongi_geo) > int(sw) and int(roppongi_geo) < int(ne))\n"
   ]
  },
  {
   "cell_type": "markdown",
   "metadata": {},
   "source": [
    "Implies:\n",
    "---\n",
    "If we have a point from a GPS and we want to find all points which are within a certain range (in km) we can make the bounding box, convert it to the geozip, and do a select where zip > sw and < ne\n",
    "\n",
    "select * from table where zip > sw and < ne order by distance (denoted by original geozip - data's geozip) asc"
   ]
  },
  {
   "cell_type": "code",
   "execution_count": null,
   "metadata": {
    "collapsed": true
   },
   "outputs": [],
   "source": []
  }
 ],
 "metadata": {
  "kernelspec": {
   "display_name": "Python 2",
   "language": "python",
   "name": "python2"
  },
  "language_info": {
   "codemirror_mode": {
    "name": "ipython",
    "version": 2
   },
   "file_extension": ".py",
   "mimetype": "text/x-python",
   "name": "python",
   "nbconvert_exporter": "python",
   "pygments_lexer": "ipython2",
   "version": "2.7.10"
  }
 },
 "nbformat": 4,
 "nbformat_minor": 0
}
