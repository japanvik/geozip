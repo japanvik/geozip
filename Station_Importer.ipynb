{
 "cells": [
  {
   "cell_type": "code",
   "execution_count": 27,
   "metadata": {
    "collapsed": true
   },
   "outputs": [],
   "source": [
    "import geozip\n",
    "import unicodecsv as csv\n",
    "import sqlite3 as lite\n",
    "from geolocation import GeoLocation"
   ]
  },
  {
   "cell_type": "code",
   "execution_count": 28,
   "metadata": {
    "collapsed": true
   },
   "outputs": [],
   "source": [
    "STATIONS_DATA = 'stations_20150414.csv'\n",
    "DB = 'stations.db'"
   ]
  },
  {
   "cell_type": "code",
   "execution_count": 29,
   "metadata": {
    "collapsed": false
   },
   "outputs": [],
   "source": [
    "csv_file = csv.reader(file(STATIONS_DATA, 'rb'), encoding='utf-8')\n",
    "con = lite.connect(DB)"
   ]
  },
  {
   "cell_type": "code",
   "execution_count": 30,
   "metadata": {
    "collapsed": false
   },
   "outputs": [],
   "source": [
    "next(csv_file, None)  # skip the headers\n",
    "with con:\n",
    "    cur = con.cursor()\n",
    "    cur.execute(\"DROP TABLE IF EXISTS Stations\")\n",
    "    cur.execute(\"CREATE TABLE Stations(name TEXT, line_name TEXT, prefecture TEXT, postal_code TEXT, address TEXT, longitude REAL, latitude REAL, geozip INT)\")\n",
    "    for d in csv_file:\n",
    "        d.append(geozip.encode(float(d[6]), float(d[5])))\n",
    "        cur.execute(\"INSERT INTO Stations VALUES(?,?,?,?,?,?,?,?)\", d)"
   ]
  },
  {
   "cell_type": "code",
   "execution_count": null,
   "metadata": {
    "collapsed": true
   },
   "outputs": [],
   "source": []
  }
 ],
 "metadata": {
  "kernelspec": {
   "display_name": "Python 2",
   "language": "python",
   "name": "python2"
  },
  "language_info": {
   "codemirror_mode": {
    "name": "ipython",
    "version": 2
   },
   "file_extension": ".py",
   "mimetype": "text/x-python",
   "name": "python",
   "nbconvert_exporter": "python",
   "pygments_lexer": "ipython2",
   "version": "2.7.10"
  }
 },
 "nbformat": 4,
 "nbformat_minor": 0
}
