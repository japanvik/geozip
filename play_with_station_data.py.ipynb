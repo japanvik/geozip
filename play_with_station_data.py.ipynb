{
 "cells": [
  {
   "cell_type": "markdown",
   "metadata": {},
   "source": [
    "# Play ground for station data"
   ]
  },
  {
   "cell_type": "code",
   "execution_count": 45,
   "metadata": {
    "collapsed": true
   },
   "outputs": [],
   "source": [
    "import geozip\n",
    "import sqlite3 as lite\n",
    "from geolocation import GeoLocation"
   ]
  },
  {
   "cell_type": "code",
   "execution_count": 61,
   "metadata": {
    "collapsed": true
   },
   "outputs": [],
   "source": [
    "def get_distance_to(origin, dest):\n",
    "    return origin.distance_to(GeoLocation.from_degrees(dest['latitude'], dest['longitude']))"
   ]
  },
  {
   "cell_type": "code",
   "execution_count": 95,
   "metadata": {
    "collapsed": true
   },
   "outputs": [],
   "source": [
    "def dict_factory(cursor, row):\n",
    "    d = {}\n",
    "    for idx, col in enumerate(cursor.description):\n",
    "        d[col[0]] = row[idx]\n",
    "    return d"
   ]
  },
  {
   "cell_type": "code",
   "execution_count": 112,
   "metadata": {
    "collapsed": false
   },
   "outputs": [],
   "source": [
    "def fetch_neighbors(lat, lng, con, distance=1):\n",
    "    origin = GeoLocation.from_degrees(lat, lng)\n",
    "    bbox = origin.bounding_locations(distance)\n",
    "    sw = geozip.encode(bbox[0].deg_lat, bbox[0].deg_lon)\n",
    "    ne = geozip.encode(bbox[1].deg_lat, bbox[1].deg_lon)\n",
    "    with con:\n",
    "        cur = con.cursor()\n",
    "        cur.execute(\"select * from Stations where geozip > ? and geozip < ?;\", (sw,ne))\n",
    "        stations = cur.fetchall()\n",
    "    \n",
    "    neighbors = [dict(x.items() + {\"distance\":get_distance_to(origin, x)}.items()) for x in stations if get_distance_to(origin, x) <= distance]\n",
    "    return sorted(neighbors, key=lambda k: k['distance'])"
   ]
  },
  {
   "cell_type": "code",
   "execution_count": 119,
   "metadata": {
    "collapsed": false
   },
   "outputs": [],
   "source": [
    "DB = 'stations.db'\n",
    "con = lite.connect(DB)\n",
    "con.row_factory = dict_factory\n",
    "\n",
    "stations = fetch_neighbors(35.6601719, 139.7300166, con, 1)"
   ]
  },
  {
   "cell_type": "code",
   "execution_count": 120,
   "metadata": {
    "collapsed": false,
    "scrolled": true
   },
   "outputs": [
    {
     "name": "stdout",
     "output_type": "stream",
     "text": [
      "六本木, 0.323306\n",
      "六本木, 0.440322\n",
      "麻布十番, 0.686376\n",
      "乃木坂, 0.791271\n",
      "麻布十番, 0.881826\n"
     ]
    }
   ],
   "source": [
    "for s in stations:\n",
    "    print \"%s, %f\" % (s['name'], s[\"distance\"])\n",
    "    "
   ]
  },
  {
   "cell_type": "code",
   "execution_count": null,
   "metadata": {
    "collapsed": true
   },
   "outputs": [],
   "source": []
  }
 ],
 "metadata": {
  "kernelspec": {
   "display_name": "Python 2",
   "language": "python",
   "name": "python2"
  },
  "language_info": {
   "codemirror_mode": {
    "name": "ipython",
    "version": 2
   },
   "file_extension": ".py",
   "mimetype": "text/x-python",
   "name": "python",
   "nbconvert_exporter": "python",
   "pygments_lexer": "ipython2",
   "version": "2.7.10"
  }
 },
 "nbformat": 4,
 "nbformat_minor": 0
}
